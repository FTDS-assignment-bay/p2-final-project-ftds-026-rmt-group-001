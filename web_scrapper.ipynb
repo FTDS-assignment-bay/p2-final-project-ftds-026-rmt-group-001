{
 "cells": [
  {
   "cell_type": "markdown",
   "metadata": {},
   "source": [
    "# Final Project - IKN House Price Web Scrapping\n",
    "- Member: \n",
    "    - Masayu Anandita Prameswari\n",
    "    - Gilbert Kurniawan Hariyanto\n",
    "    - Ade William Tabrani\n",
    "    - Mardhya Malik Nurbani\n",
    "- Group: 001\n",
    "- Batch: RMT 026\n",
    "- This program is created to scrap the house price data from the website [rumah123](https://www.rumah123.com/jual/rumah/?q=Balikpapan). The data will be used to create regression model to give reccomendation for the house price in IKN area based on the house's features.\n"
   ]
  },
  {
   "cell_type": "code",
   "execution_count": null,
   "metadata": {},
   "outputs": [],
   "source": []
  }
 ],
 "metadata": {
  "language_info": {
   "name": "python"
  }
 },
 "nbformat": 4,
 "nbformat_minor": 2
}
